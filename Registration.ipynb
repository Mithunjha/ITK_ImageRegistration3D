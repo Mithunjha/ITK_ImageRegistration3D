{
  "cells": [
    {
      "cell_type": "markdown",
      "metadata": {
        "id": "view-in-github",
        "colab_type": "text"
      },
      "source": [
        "<a href=\"https://colab.research.google.com/github/Mithunjha/ITK_ImageRegistration3D/blob/main/Registration.ipynb\" target=\"_parent\"><img src=\"https://colab.research.google.com/assets/colab-badge.svg\" alt=\"Open In Colab\"/></a>"
      ]
    },
    {
      "cell_type": "code",
      "source": [
        "from google.colab import drive\n",
        "drive.mount('/content/drive',force_remount=True)"
      ],
      "metadata": {
        "colab": {
          "base_uri": "https://localhost:8080/"
        },
        "id": "qvR2aBmE_t9L",
        "outputId": "cf2ebe6d-fb69-4e99-ce19-82cd93924ca8"
      },
      "execution_count": null,
      "outputs": [
        {
          "output_type": "stream",
          "name": "stdout",
          "text": [
            "Mounted at /content/drive\n"
          ]
        }
      ]
    },
    {
      "cell_type": "code",
      "execution_count": null,
      "metadata": {
        "colab": {
          "base_uri": "https://localhost:8080/"
        },
        "id": "-bQIha96_mN3",
        "outputId": "b315e03b-4086-426f-aaf5-8518d0baea40"
      },
      "outputs": [
        {
          "output_type": "stream",
          "name": "stdout",
          "text": [
            "Collecting itk\n",
            "  Downloading itk-5.2.1.post1-cp37-cp37m-manylinux2014_x86_64.whl (8.3 kB)\n",
            "Collecting itk-numerics==5.2.1.post1\n",
            "  Downloading itk_numerics-5.2.1.post1-cp37-cp37m-manylinux_2_17_x86_64.manylinux2014_x86_64.whl (54.5 MB)\n",
            "\u001b[K     |████████████████████████████████| 54.5 MB 1.4 MB/s \n",
            "\u001b[?25hCollecting itk-io==5.2.1.post1\n",
            "  Downloading itk_io-5.2.1.post1-cp37-cp37m-manylinux_2_17_x86_64.manylinux2014_x86_64.whl (15.0 MB)\n",
            "\u001b[K     |████████████████████████████████| 15.0 MB 50.6 MB/s \n",
            "\u001b[?25hCollecting itk-segmentation==5.2.1.post1\n",
            "  Downloading itk_segmentation-5.2.1.post1-cp37-cp37m-manylinux_2_17_x86_64.manylinux2014_x86_64.whl (16.6 MB)\n",
            "\u001b[K     |████████████████████████████████| 16.6 MB 300 kB/s \n",
            "\u001b[?25hCollecting itk-registration==5.2.1.post1\n",
            "  Downloading itk_registration-5.2.1.post1-cp37-cp37m-manylinux_2_17_x86_64.manylinux2014_x86_64.whl (20.3 MB)\n",
            "\u001b[K     |████████████████████████████████| 20.3 MB 532 kB/s \n",
            "\u001b[?25hRequirement already satisfied: numpy in /usr/local/lib/python3.7/dist-packages (from itk) (1.21.5)\n",
            "Collecting itk-core==5.2.1.post1\n",
            "  Downloading itk_core-5.2.1.post1-cp37-cp37m-manylinux_2_17_x86_64.manylinux2014_x86_64.whl (70.6 MB)\n",
            "\u001b[K     |████████████████████████████████| 70.6 MB 7.5 kB/s \n",
            "\u001b[?25hCollecting itk-filtering==5.2.1.post1\n",
            "  Downloading itk_filtering-5.2.1.post1-cp37-cp37m-manylinux_2_17_x86_64.manylinux2014_x86_64.whl (95.3 MB)\n",
            "\u001b[K     |████████████████████████████████| 95.3 MB 37 kB/s \n",
            "\u001b[?25hInstalling collected packages: itk-core, itk-numerics, itk-filtering, itk-segmentation, itk-registration, itk-io, itk\n",
            "Successfully installed itk-5.2.1.post1 itk-core-5.2.1.post1 itk-filtering-5.2.1.post1 itk-io-5.2.1.post1 itk-numerics-5.2.1.post1 itk-registration-5.2.1.post1 itk-segmentation-5.2.1.post1\n"
          ]
        }
      ],
      "source": [
        "import sys\n",
        "!pip install itk\n",
        "import itk \n",
        "from distutils.version import StrictVersion as VS"
      ]
    },
    {
      "cell_type": "code",
      "execution_count": null,
      "metadata": {
        "id": "O6tNsW0p_mOI"
      },
      "outputs": [],
      "source": [
        "if VS(itk.Version.GetITKVersion()) < VS(\"4.9.0\"):\n",
        "    print(\"ITK 4.9.0 is required.\")\n",
        "    sys.exit(1)"
      ]
    },
    {
      "cell_type": "code",
      "execution_count": null,
      "metadata": {
        "id": "IFkvPi1E_mOM"
      },
      "outputs": [],
      "source": [
        "# if len(sys.argv) != 3:\n",
        "#     print(\"Usage: \" + sys.argv[0] + \" <fixedImageFile> <movingImageFile>\")\n",
        "#     sys.exit(1)\n",
        "# fixedImageFile = sys.argv[1]\n",
        "# movingImageFile = sys.argv[2]\n",
        "# outputImageFile = \".\" + movingImageFile.split('.')[1] + \"_registered.\" + movingImageFile.split('.')[2]\n",
        "# differenceImageAfterFile = \".\" + movingImageFile.split('.')[1] + \"_difference_after.\" + movingImageFile.split('.')[2]\n",
        "# differenceImageBeforeFile = \".\" + movingImageFile.split('.')[1] + \"_difference_before.\" + movingImageFile.split('.')[2]\n",
        "\n",
        "base = \"/content/drive/MyDrive/Registration/\"\n",
        "fixedImageFile = base + \"VF-MRT1-1014-1174.vtk\"\n",
        "movingImageFile = base + \"VF-MRT2-1014-1174.vtk\"\n",
        "outputImageFile = base + \"registered.vtk\"\n",
        "differenceImageAfterFile = base +  \"difference_after.vtk\"\n",
        "differenceImageBeforeFile = base + \"difference_before.vtk\""
      ]
    },
    {
      "cell_type": "code",
      "execution_count": null,
      "metadata": {
        "colab": {
          "base_uri": "https://localhost:8080/"
        },
        "id": "p2dXDIPM_mOP",
        "outputId": "bab148f9-927a-416b-976e-07b7f1ad7123"
      },
      "outputs": [
        {
          "output_type": "stream",
          "name": "stdout",
          "text": [
            "3\n",
            "(33, 256, 256)\n",
            "<class 'itk.itkImagePython.itkImageF3'>\n",
            "<class 'itk.itkImagePython.itkImageF3'>\n"
          ]
        }
      ],
      "source": [
        "PixelType = itk.F\n",
        "\n",
        "fixedImage = itk.imread(fixedImageFile, PixelType)\n",
        "movingImage = itk.imread(movingImageFile, PixelType)\n",
        "\n",
        "Dimension = fixedImage.GetImageDimension()\n",
        "\n",
        "FixedImageType = itk.Image[PixelType, Dimension]\n",
        "MovingImageType = itk.Image[PixelType, Dimension]\n",
        "\n",
        "TransformType = itk.TranslationTransform[itk.D, Dimension]\n",
        "initialTransform = TransformType.New()\n",
        "\n",
        "print(Dimension)\n",
        "print(fixedImage.shape)\n",
        "print(FixedImageType)\n",
        "print(MovingImageType)"
      ]
    },
    {
      "cell_type": "code",
      "execution_count": null,
      "metadata": {
        "id": "tIEuTI6t_mOT"
      },
      "outputs": [],
      "source": [
        "optimizer = itk.RegularStepGradientDescentOptimizerv4.New(LearningRate=4,MinimumStepLength=0.001,RelaxationFactor=0.5,NumberOfIterations=200)\n",
        "metric = itk.MeanSquaresImageToImageMetricv4[FixedImageType, MovingImageType].New()\n"
      ]
    },
    {
      "cell_type": "code",
      "execution_count": null,
      "metadata": {
        "id": "aBgpmNDA_mOV"
      },
      "outputs": [],
      "source": [
        "registration = itk.ImageRegistrationMethodv4[FixedImageType,MovingImageType].New(FixedImage=fixedImage,\n",
        "                                                                                 MovingImage=movingImage,\n",
        "                                                                                 Metric=metric,\n",
        "                                                                                 Optimizer=optimizer,\n",
        "                                                                                 InitialTransform=initialTransform)"
      ]
    },
    {
      "cell_type": "code",
      "execution_count": null,
      "metadata": {
        "id": "1o6m72pk_mOY"
      },
      "outputs": [],
      "source": [
        "movingInitialTransform = TransformType.New()\n",
        "initialParameters = movingInitialTransform.GetParameters()\n",
        "initialParameters[0] = 0\n",
        "initialParameters[1] = 0\n",
        "movingInitialTransform.SetParameters(initialParameters)\n",
        "registration.SetMovingInitialTransform(movingInitialTransform)\n",
        "\n",
        "identityTransform = TransformType.New()\n",
        "identityTransform.SetIdentity()\n",
        "registration.SetFixedInitialTransform(identityTransform)"
      ]
    },
    {
      "cell_type": "code",
      "execution_count": null,
      "metadata": {
        "colab": {
          "base_uri": "https://localhost:8080/"
        },
        "id": "5m6D7z9__mOc",
        "outputId": "dc0940d8-268f-462e-c6a6-681d92938151"
      },
      "outputs": [
        {
          "output_type": "stream",
          "name": "stdout",
          "text": [
            "Result = \n",
            " Translation X = -0.11694292587329144\n",
            " Translation Y = -9.550855653275313\n",
            " Iterations    = 24\n",
            " Metric value  = 9197.5555730383\n"
          ]
        }
      ],
      "source": [
        "\n",
        "#------------------------------------\n",
        "registration.SetNumberOfLevels(1)\n",
        "registration.SetSmoothingSigmasPerLevel([0])\n",
        "registration.SetShrinkFactorsPerLevel([1])\n",
        "#------------------------------------\n",
        "\n",
        "registration.Update()\n",
        "\n",
        "transform = registration.GetTransform()\n",
        "finalParameters = transform.GetParameters()\n",
        "translationAlongX = finalParameters.GetElement(0)\n",
        "translationAlongY = finalParameters.GetElement(1)\n",
        "\n",
        "numberOfIterations = optimizer.GetCurrentIteration()\n",
        "\n",
        "bestValue = optimizer.GetValue()\n",
        "\n",
        "print(\"Result = \")\n",
        "print(\" Translation X = \" + str(translationAlongX))\n",
        "print(\" Translation Y = \" + str(translationAlongY))\n",
        "print(\" Iterations    = \" + str(numberOfIterations))\n",
        "print(\" Metric value  = \" + str(bestValue))\n",
        "\n",
        "CompositeTransformType = itk.CompositeTransform[itk.D, Dimension]\n",
        "outputCompositeTransform = CompositeTransformType.New()\n",
        "outputCompositeTransform.AddTransform(movingInitialTransform)\n",
        "outputCompositeTransform.AddTransform(registration.GetModifiableTransform())\n",
        "\n"
      ]
    },
    {
      "cell_type": "code",
      "execution_count": null,
      "metadata": {
        "id": "DDS0vM9o_mOf"
      },
      "outputs": [],
      "source": [
        "resampler = itk.ResampleImageFilter.New(Input=movingImage,\n",
        "        Transform=outputCompositeTransform,\n",
        "        UseReferenceImage=True,\n",
        "        ReferenceImage=fixedImage)\n",
        "resampler.SetDefaultPixelValue(100)\n",
        "\n",
        "OutputPixelType = itk.ctype('unsigned char')\n",
        "OutputImageType = itk.Image[OutputPixelType, Dimension]\n",
        "\n",
        "caster = itk.CastImageFilter[FixedImageType,\n",
        "        OutputImageType].New(Input=resampler)\n",
        "\n",
        "writer = itk.ImageFileWriter.New(Input=caster, FileName=outputImageFile)\n",
        "writer.SetFileName(outputImageFile)\n",
        "writer.Update()"
      ]
    },
    {
      "cell_type": "code",
      "execution_count": null,
      "metadata": {
        "id": "fOYFTHqo_mOi"
      },
      "outputs": [],
      "source": [
        "difference = itk.SubtractImageFilter.New(Input1=fixedImage,\n",
        "        Input2=resampler)\n",
        "\n",
        "intensityRescaler = itk.RescaleIntensityImageFilter[FixedImageType,\n",
        "        OutputImageType].New(\n",
        "            Input=difference,\n",
        "            OutputMinimum=itk.NumericTraits[OutputPixelType].min(),\n",
        "            OutputMaximum=itk.NumericTraits[OutputPixelType].max())\n",
        "\n",
        "resampler.SetDefaultPixelValue(1)\n",
        "writer.SetInput(intensityRescaler.GetOutput())\n",
        "writer.SetFileName(differenceImageAfterFile)\n",
        "writer.Update()\n",
        "\n",
        "resampler.SetTransform(identityTransform)\n",
        "writer.SetFileName(differenceImageBeforeFile)\n",
        "writer.Update()\n",
        "\n",
        "\n",
        "exit()"
      ]
    },
    {
      "cell_type": "code",
      "source": [
        ""
      ],
      "metadata": {
        "id": "FmErZmQVCwRs"
      },
      "execution_count": null,
      "outputs": []
    }
  ],
  "metadata": {
    "interpreter": {
      "hash": "6aab6e3041e76f2ea96a5f82824ad458847284ff6e377139c23a38c88b7645ee"
    },
    "kernelspec": {
      "display_name": "Python 3.9.5 64-bit",
      "language": "python",
      "name": "python3"
    },
    "language_info": {
      "codemirror_mode": {
        "name": "ipython",
        "version": 3
      },
      "file_extension": ".py",
      "mimetype": "text/x-python",
      "name": "python",
      "nbconvert_exporter": "python",
      "pygments_lexer": "ipython3",
      "version": "3.9.5"
    },
    "orig_nbformat": 4,
    "colab": {
      "name": "Registration.ipynb",
      "provenance": [],
      "collapsed_sections": [],
      "include_colab_link": true
    }
  },
  "nbformat": 4,
  "nbformat_minor": 0
}