{
  "nbformat": 4,
  "nbformat_minor": 0,
  "metadata": {
    "colab": {
      "name": "HandsOn",
      "provenance": [],
      "collapsed_sections": [],
      "mount_file_id": "1J3p0mPihYkprsDgciV5kKnSvl7On0Ldr",
      "authorship_tag": "ABX9TyM53OJPRROSLP3GhHuVWuK1",
      "include_colab_link": true
    },
    "kernelspec": {
      "name": "python3",
      "display_name": "Python 3"
    },
    "language_info": {
      "name": "python"
    }
  },
  "cells": [
    {
      "cell_type": "markdown",
      "metadata": {
        "id": "view-in-github",
        "colab_type": "text"
      },
      "source": [
        "<a href=\"https://colab.research.google.com/github/Mithunjha/ITK_ImageRegistration3D/blob/main/HandsOn.ipynb\" target=\"_parent\"><img src=\"https://colab.research.google.com/assets/colab-badge.svg\" alt=\"Open In Colab\"/></a>"
      ]
    },
    {
      "cell_type": "code",
      "source": [
        "!pip install itk"
      ],
      "metadata": {
        "colab": {
          "base_uri": "https://localhost:8080/"
        },
        "id": "kKAybERla66K",
        "outputId": "3acd568e-0a10-4492-e20b-b4a035b8d675"
      },
      "execution_count": 1,
      "outputs": [
        {
          "output_type": "stream",
          "name": "stdout",
          "text": [
            "Collecting itk\n",
            "  Downloading itk-5.2.1.post1-cp37-cp37m-manylinux2014_x86_64.whl (8.3 kB)\n",
            "Collecting itk-segmentation==5.2.1.post1\n",
            "  Downloading itk_segmentation-5.2.1.post1-cp37-cp37m-manylinux_2_17_x86_64.manylinux2014_x86_64.whl (16.6 MB)\n",
            "\u001b[K     |████████████████████████████████| 16.6 MB 10.6 MB/s \n",
            "\u001b[?25hCollecting itk-io==5.2.1.post1\n",
            "  Downloading itk_io-5.2.1.post1-cp37-cp37m-manylinux_2_17_x86_64.manylinux2014_x86_64.whl (15.0 MB)\n",
            "\u001b[K     |████████████████████████████████| 15.0 MB 17.4 MB/s \n",
            "\u001b[?25hRequirement already satisfied: numpy in /usr/local/lib/python3.7/dist-packages (from itk) (1.21.5)\n",
            "Collecting itk-registration==5.2.1.post1\n",
            "  Downloading itk_registration-5.2.1.post1-cp37-cp37m-manylinux_2_17_x86_64.manylinux2014_x86_64.whl (20.3 MB)\n",
            "\u001b[K     |████████████████████████████████| 20.3 MB 1.3 MB/s \n",
            "\u001b[?25hCollecting itk-core==5.2.1.post1\n",
            "  Downloading itk_core-5.2.1.post1-cp37-cp37m-manylinux_2_17_x86_64.manylinux2014_x86_64.whl (70.6 MB)\n",
            "\u001b[K     |████████████████████████████████| 70.6 MB 8.0 kB/s \n",
            "\u001b[?25hCollecting itk-filtering==5.2.1.post1\n",
            "  Downloading itk_filtering-5.2.1.post1-cp37-cp37m-manylinux_2_17_x86_64.manylinux2014_x86_64.whl (95.3 MB)\n",
            "\u001b[K     |████████████████████████████████| 95.3 MB 1.2 MB/s \n",
            "\u001b[?25hCollecting itk-numerics==5.2.1.post1\n",
            "  Downloading itk_numerics-5.2.1.post1-cp37-cp37m-manylinux_2_17_x86_64.manylinux2014_x86_64.whl (54.5 MB)\n",
            "\u001b[K     |████████████████████████████████| 54.5 MB 63 kB/s \n",
            "\u001b[?25hInstalling collected packages: itk-core, itk-numerics, itk-filtering, itk-segmentation, itk-registration, itk-io, itk\n",
            "Successfully installed itk-5.2.1.post1 itk-core-5.2.1.post1 itk-filtering-5.2.1.post1 itk-io-5.2.1.post1 itk-numerics-5.2.1.post1 itk-registration-5.2.1.post1 itk-segmentation-5.2.1.post1\n"
          ]
        }
      ]
    },
    {
      "cell_type": "code",
      "execution_count": 2,
      "metadata": {
        "colab": {
          "base_uri": "https://localhost:8080/"
        },
        "id": "DmEtMzn6YSPA",
        "outputId": "e8e2588a-72df-4f6c-b734-d100459bf23c"
      },
      "outputs": [
        {
          "output_type": "stream",
          "name": "stdout",
          "text": [
            "Cloning into 'ITK_ImageRegistration3D'...\n",
            "remote: Enumerating objects: 41, done.\u001b[K\n",
            "remote: Counting objects: 100% (41/41), done.\u001b[K\n",
            "remote: Compressing objects: 100% (39/39), done.\u001b[K\n",
            "remote: Total 41 (delta 8), reused 10 (delta 0), pack-reused 0\u001b[K\n",
            "Unpacking objects: 100% (41/41), done.\n"
          ]
        }
      ],
      "source": [
        "!git clone https://github.com/Mithunjha/ITK_ImageRegistration3D.git"
      ]
    },
    {
      "cell_type": "code",
      "source": [
        "%cd /content/ITK_ImageRegistration3D\n"
      ],
      "metadata": {
        "colab": {
          "base_uri": "https://localhost:8080/"
        },
        "id": "vrs-4Q5jaVI9",
        "outputId": "f479475b-01b7-4aac-e078-1f4fae327cd5"
      },
      "execution_count": 3,
      "outputs": [
        {
          "output_type": "stream",
          "name": "stdout",
          "text": [
            "/content/ITK_ImageRegistration3D\n"
          ]
        }
      ]
    },
    {
      "cell_type": "code",
      "source": [
        "!python registration.py \"/content/drive/MyDrive/Registration/VF-MRT1-1014-1174.vtk\" \"/content/drive/MyDrive/Registration/VF-MRT2-1014-1174.vtk\" \"/content/drive/MyDrive/Registration\""
      ],
      "metadata": {
        "colab": {
          "base_uri": "https://localhost:8080/"
        },
        "id": "CIvhdpZgZ_zK",
        "outputId": "dcb90bdd-eadf-4818-b943-a05eeda9f144"
      },
      "execution_count": 4,
      "outputs": [
        {
          "output_type": "stream",
          "name": "stdout",
          "text": [
            "Shape of fixed image : (33, 256, 256)\n",
            "Shape of moving image : (63, 256, 256)\n",
            "Dimension : 3\n",
            "ITKImageType of fixed image : <class 'itk.itkImagePython.itkImageF3'>\n",
            "ITKImageType of moving image : <class 'itk.itkImagePython.itkImageF3'>\n",
            "==========================Starting registration==========================\n",
            "Index : 0 -->  Metric : -0.363855   (X,Y,Z) : (0.256409 -3.813188 -1.180615)\n",
            "Index : 1 -->  Metric : -0.470647   (X,Y,Z) : (0.366235 -7.714076 -2.058688)\n",
            "Index : 2 -->  Metric : -0.628557   (X,Y,Z) : (-1.687360 -11.044031 -1.225537)\n",
            "Index : 3 -->  Metric : -0.537375   (X,Y,Z) : (-0.179787 -9.731233 -1.164040)\n",
            "Index : 4 -->  Metric : -0.609955   (X,Y,Z) : (0.170345 -7.762874 -1.109538)\n",
            "Index : 5 -->  Metric : -0.632928   (X,Y,Z) : (0.065918 -8.747871 -1.246928)\n",
            "Index : 6 -->  Metric : -0.641698   (X,Y,Z) : (0.084300 -8.248325 -1.257681)\n",
            "Index : 7 -->  Metric : -0.646847   (X,Y,Z) : (0.126899 -8.487026 -1.318566)\n",
            "Index : 8 -->  Metric : -0.645818   (X,Y,Z) : (0.088192 -8.368174 -1.319516)\n",
            "Index : 9 -->  Metric : -0.647018   (X,Y,Z) : (0.118975 -8.249137 -1.342046)\n",
            "Index : 10 -->  Metric : -0.647313   (X,Y,Z) : (0.104698 -8.309891 -1.345408)\n",
            "Index : 11 -->  Metric : -0.647392   (X,Y,Z) : (0.087485 -8.369875 -1.348863)\n",
            "Index : 12 -->  Metric : -0.647045   (X,Y,Z) : (0.095457 -8.339708 -1.347128)\n",
            "Index : 0 -->  Metric : 1.419389   (X,Y,Z) : (-2.186742 -11.624759 -1.350898)\n",
            "Index : 1 -->  Metric : -0.519571   (X,Y,Z) : (-0.638779 -10.362624 -1.246845)\n",
            "Index : 2 -->  Metric : -0.592489   (X,Y,Z) : (0.193204 -8.549197 -1.107970)\n",
            "Index : 3 -->  Metric : -0.654468   (X,Y,Z) : (-1.296291 -7.298191 -1.573148)\n",
            "Index : 4 -->  Metric : -0.574320   (X,Y,Z) : (-0.454669 -7.838208 -1.580495)\n",
            "Index : 5 -->  Metric : -0.634540   (X,Y,Z) : (0.324251 -8.463882 -1.537871)\n",
            "Index : 6 -->  Metric : -0.652464   (X,Y,Z) : (-0.150482 -8.333648 -1.450305)\n",
            "Index : 7 -->  Metric : -0.653927   (X,Y,Z) : (0.092191 -8.389639 -1.428513)\n",
            "Index : 8 -->  Metric : -0.656906   (X,Y,Z) : (-0.008698 -8.413413 -1.358648)\n",
            "Index : 9 -->  Metric : -0.656859   (X,Y,Z) : (0.053650 -8.412366 -1.354414)\n",
            "Index : 10 -->  Metric : -0.657087   (X,Y,Z) : (0.110179 -8.393398 -1.335682)\n",
            "Index : 11 -->  Metric : -0.656791   (X,Y,Z) : (0.079132 -8.396935 -1.335995)\n",
            "Index : 12 -->  Metric : -0.656967   (X,Y,Z) : (0.049680 -8.407381 -1.336020)\n",
            "Index : 13 -->  Metric : -0.657051   (X,Y,Z) : (0.065292 -8.407056 -1.335493)\n",
            "Index : 14 -->  Metric : -0.657039   (X,Y,Z) : (0.074535 -8.395103 -1.331513)\n",
            "Index : 15 -->  Metric : -0.656967   (X,Y,Z) : (0.068317 -8.399784 -1.332199)\n",
            "Index : 16 -->  Metric : -0.657002   (X,Y,Z) : (0.064529 -8.406532 -1.333267)\n",
            "Index : 17 -->  Metric : -0.657036   (X,Y,Z) : (0.068171 -8.405131 -1.333452)\n",
            "Index : 18 -->  Metric : -0.657025   (X,Y,Z) : (0.066222 -8.405180 -1.333569)\n",
            "Index : 0 -->  Metric : 0.450066   (X,Y,Z) : (1.529190 -4.738442 -1.977586)\n",
            "Index : 1 -->  Metric : -0.503122   (X,Y,Z) : (0.593545 -6.483054 -2.262014)\n",
            "Index : 2 -->  Metric : -0.579863   (X,Y,Z) : (-0.056533 -8.374155 -2.228345)\n",
            "Index : 3 -->  Metric : -0.648433   (X,Y,Z) : (0.566888 -8.244002 -1.457367)\n",
            "Index : 4 -->  Metric : -0.643904   (X,Y,Z) : (0.072704 -8.319401 -1.447494)\n",
            "Index : 5 -->  Metric : -0.654743   (X,Y,Z) : (0.098752 -8.784844 -1.266706)\n",
            "Index : 6 -->  Metric : -0.649647   (X,Y,Z) : (0.067029 -8.536865 -1.267357)\n",
            "Index : 7 -->  Metric : -0.654618   (X,Y,Z) : (0.071847 -8.287818 -1.288624)\n",
            "Index : 8 -->  Metric : -0.654149   (X,Y,Z) : (0.076732 -8.409080 -1.318569)\n",
            "Index : 9 -->  Metric : -0.655153   (X,Y,Z) : (0.060848 -8.351049 -1.335492)\n",
            "Index : 10 -->  Metric : -0.654926   (X,Y,Z) : (0.077295 -8.377079 -1.340831)\n",
            "Index : 11 -->  Metric : -0.655078   (X,Y,Z) : (0.053146 -8.392507 -1.353295)\n",
            "Index : 12 -->  Metric : -0.655184   (X,Y,Z) : (0.067957 -8.387536 -1.353014)\n",
            "Index : 13 -->  Metric : -0.655161   (X,Y,Z) : (0.080080 -8.377682 -1.352791)\n",
            "Index : 14 -->  Metric : -0.655094   (X,Y,Z) : (0.072599 -8.379906 -1.353140)\n",
            "============================Registration done============================\n",
            "============================Final parameters=============================\n",
            "Result = \n",
            " Translation X = 0.07259936230718783\n",
            " Translation Y = -8.379906232968422\n",
            " Translation Z = -1.3531402241153758\n",
            " Iterations    = 16\n",
            " Metric value  = -0.6551210725968081\n",
            "=========================================================================\n"
          ]
        }
      ]
    },
    {
      "cell_type": "code",
      "source": [
        ""
      ],
      "metadata": {
        "id": "N31Z3EP9b2n-"
      },
      "execution_count": null,
      "outputs": []
    }
  ]
}